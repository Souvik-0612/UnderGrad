{
 "cells": [
  {
   "cell_type": "code",
   "execution_count": 1,
   "id": "5c5a4a7e",
   "metadata": {
    "ExecuteTime": {
     "end_time": "2023-02-23T02:19:28.048815Z",
     "start_time": "2023-02-23T02:19:27.910667Z"
    }
   },
   "outputs": [],
   "source": [
    "import numpy as np"
   ]
  },
  {
   "cell_type": "code",
   "execution_count": 2,
   "id": "5d007fa6",
   "metadata": {
    "ExecuteTime": {
     "end_time": "2023-02-23T02:19:28.056006Z",
     "start_time": "2023-02-23T02:19:28.051241Z"
    }
   },
   "outputs": [],
   "source": [
    "#Standard inner product \n",
    "def innProd(u, v):\n",
    "    return sum(np.array(u)*np.array(v)) # Numpy arrays are vectorise, they do oparate\n",
    "                                        # elementwise.\n",
    "#norm of a vector\n",
    "def norm(v):\n",
    "    return np.sqrt(sum(v**2))"
   ]
  },
  {
   "cell_type": "markdown",
   "id": "57bef3d9",
   "metadata": {},
   "source": [
    "# <font color = 'green'> Gram-Schmidt process</font>\n",
    "This is the process of generating **orthogonal basis** from linearly independent vectors.\n",
    "Let {$\\vec u_1, ..., \\vec u_n$} be a linearly independent set of vectors. Let, for $k =1,...,n$\n",
    "$$\\vec v_k = \\vec u_k - \\sum_{i =1}^{k-1}\\frac{\\langle\\vec u_k, \\vec v_i\\rangle}{\\langle{\\vec v_i, \\vec v_i}\\rangle}\\vec v_i$$\n",
    "and for normalisation\n",
    "$$\\vec w_k = \\frac{\\vec v_k}{\\lVert{\\vec v_k}\\rVert}$$\n",
    "Then ${\\vec v_1,..., \\vec v_n}$ is a orthogonal basis and ${\\vec w_1,...,\\vec w_2}$ is an orthogonal basis for $span$ {$\\vec u_1, ..., \\vec u_n$}."
   ]
  },
  {
   "cell_type": "code",
   "execution_count": 3,
   "id": "178467ac",
   "metadata": {
    "ExecuteTime": {
     "end_time": "2023-02-23T02:19:28.165904Z",
     "start_time": "2023-02-23T02:19:28.060103Z"
    }
   },
   "outputs": [],
   "source": [
    "def ONB(vec):\n",
    "    ortho = np.zeros_like(vec, dtype=float)\n",
    "    n = len(vec)                          # len(vec) = no of rows\n",
    "    \n",
    "    #Gram-Schimdt process\n",
    "    for i in range(n):\n",
    "        null = np.zeros((len(vec[0]), ))  # len(vec[0]) == no.of elements of each row\n",
    "        for j in range(i):\n",
    "            null += (innProd(vec[i], vec[j])/innProd(vec[j],vec[j]))*ortho[j]\n",
    "        ortho[i] = vec[i] - null\n",
    "    \n",
    "    #Ortho-Normal Vector\n",
    "    for i in range(n):\n",
    "        ortho[i] = ortho[i]/norm(ortho[i])\n",
    "        \n",
    "    return ortho"
   ]
  },
  {
   "cell_type": "markdown",
   "id": "7d7a96d7",
   "metadata": {},
   "source": [
    "### Problem1:\n",
    "Apply Gram-Schmidt process to the vectors (1, 0, 1), (1, 0, -1) and (1, 3, 4) to obtain an orthogonormal basis for $\\mathbb{R}^3$ with the standard inner product."
   ]
  },
  {
   "cell_type": "code",
   "execution_count": 4,
   "id": "3cb10b23",
   "metadata": {
    "ExecuteTime": {
     "end_time": "2023-02-23T02:19:28.332173Z",
     "start_time": "2023-02-23T02:19:28.183524Z"
    },
    "scrolled": true
   },
   "outputs": [
    {
     "data": {
      "text/plain": [
       "array([[ 0.70710678,  0.        ,  0.70710678],\n",
       "       [ 0.70710678,  0.        , -0.70710678],\n",
       "       [ 0.        ,  1.        ,  0.        ]])"
      ]
     },
     "execution_count": 4,
     "metadata": {},
     "output_type": "execute_result"
    }
   ],
   "source": [
    "vec = np.array([[1, 0, 1],[1, 0, -1],[1, 3, 4]])\n",
    "ONB(vec)"
   ]
  },
  {
   "cell_type": "markdown",
   "id": "0a478081",
   "metadata": {},
   "source": [
    "### Problem2:\n",
    "Apply Gram-Schmidt process to the vectors (1, 1, 0, 1), (1, -2, 0, 0) and (1, 0, -1, 2) to obtain an orthogonormal basis for $\\mathbb{R}^4$ with the standard inner product."
   ]
  },
  {
   "cell_type": "code",
   "execution_count": 5,
   "id": "e9f46f0b",
   "metadata": {
    "ExecuteTime": {
     "end_time": "2023-02-23T02:19:28.410266Z",
     "start_time": "2023-02-23T02:19:28.350165Z"
    }
   },
   "outputs": [
    {
     "data": {
      "text/plain": [
       "array([[ 0.57735027,  0.57735027,  0.        ,  0.57735027],\n",
       "       [ 0.6172134 , -0.77151675,  0.        ,  0.15430335],\n",
       "       [-0.17261274, -0.43153185, -0.64729778,  0.60414459]])"
      ]
     },
     "execution_count": 5,
     "metadata": {},
     "output_type": "execute_result"
    }
   ],
   "source": [
    "vec1 = np.array([[1, 1, 0, 1],[1, -2, 0, 0], [1, 0, -1, 2]])\n",
    "ONB(vec1)"
   ]
  }
 ],
 "metadata": {
  "kernelspec": {
   "display_name": "Python 3 (ipykernel)",
   "language": "python",
   "name": "python3"
  },
  "language_info": {
   "codemirror_mode": {
    "name": "ipython",
    "version": 3
   },
   "file_extension": ".py",
   "mimetype": "text/x-python",
   "name": "python",
   "nbconvert_exporter": "python",
   "pygments_lexer": "ipython3",
   "version": "3.10.7"
  }
 },
 "nbformat": 4,
 "nbformat_minor": 5
}
