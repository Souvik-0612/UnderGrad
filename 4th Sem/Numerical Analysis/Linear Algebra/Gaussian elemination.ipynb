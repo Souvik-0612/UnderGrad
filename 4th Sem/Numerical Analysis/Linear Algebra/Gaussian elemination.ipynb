{
 "cells": [
  {
   "cell_type": "markdown",
   "id": "18f264b0",
   "metadata": {},
   "source": [
    "## Solve \n",
    "Three simultaneous equations:\n",
    "\\begin{equation} \\label{1} \\tag{1}\n",
    "3x_1 + 2x_2 + 4x_3 = 7 \\\\\n",
    "2x_1 + x_2 + x_3 = 4 \\\\\n",
    "x_1 + 3x_2 + 5x_3 = 2 \\\\\n",
    "\\end{equation}\n",
    "Augmented matrix is\n",
    "\\begin{bmatrix}\n",
    "3 & 2 & 4 & 7 \\\\\n",
    "2 & 1 & 1 & 4 \\\\\n",
    "1 & 3 & 5 & 2\\\\\n",
    "\\end{bmatrix}"
   ]
  },
  {
   "cell_type": "code",
   "execution_count": 1,
   "id": "1a31d47b",
   "metadata": {
    "ExecuteTime": {
     "end_time": "2023-04-19T16:27:10.234749Z",
     "start_time": "2023-04-19T16:27:10.106294Z"
    }
   },
   "outputs": [],
   "source": [
    "import numpy as np"
   ]
  },
  {
   "cell_type": "code",
   "execution_count": 2,
   "id": "32373b6b",
   "metadata": {
    "ExecuteTime": {
     "end_time": "2023-04-19T16:27:10.278089Z",
     "start_time": "2023-04-19T16:27:10.238740Z"
    }
   },
   "outputs": [],
   "source": [
    "A = np.array([[3, 2, 4, 7],\n",
    "              [2, 1, 1, 4],\n",
    "              [1, 3, 5, 2]], dtype = float)"
   ]
  },
  {
   "cell_type": "code",
   "execution_count": 3,
   "id": "4a2853ca",
   "metadata": {
    "ExecuteTime": {
     "end_time": "2023-04-19T16:27:10.417538Z",
     "start_time": "2023-04-19T16:27:10.280604Z"
    }
   },
   "outputs": [],
   "source": [
    "def LinearEqSolver(A):\n",
    "    n = len(A)\n",
    "    #Elimination\n",
    "    for i in range(n):\n",
    "        for j in range(i+1, n):\n",
    "            A[j] = A[j] - A[i]*(A[j][i]/A[i][i])\n",
    "            \n",
    "    #Back-substitution\n",
    "    x = np.zeros((n))\n",
    "    for i in range(n-1, -1, -1):  #Back is the \"key-word\".\n",
    "        x[i] = (A[i][n] - sum([x[j]*A[i][j] for j in range(n-1, i, -1)]))/A[i][i]\n",
    "        \n",
    "    return x"
   ]
  },
  {
   "cell_type": "code",
   "execution_count": 4,
   "id": "176ca942",
   "metadata": {
    "ExecuteTime": {
     "end_time": "2023-04-19T16:27:10.554106Z",
     "start_time": "2023-04-19T16:27:10.434289Z"
    }
   },
   "outputs": [
    {
     "data": {
      "text/plain": [
       "array([ 2.25 , -1.125,  0.625])"
      ]
     },
     "execution_count": 4,
     "metadata": {},
     "output_type": "execute_result"
    }
   ],
   "source": [
    "x = LinearEqSolver(A)\n",
    "x"
   ]
  },
  {
   "cell_type": "code",
   "execution_count": 5,
   "id": "3664fd4e",
   "metadata": {
    "ExecuteTime": {
     "end_time": "2023-04-19T16:27:10.601767Z",
     "start_time": "2023-04-19T16:27:10.570809Z"
    }
   },
   "outputs": [
    {
     "data": {
      "text/plain": [
       "7.000000000000001"
      ]
     },
     "execution_count": 5,
     "metadata": {},
     "output_type": "execute_result"
    }
   ],
   "source": [
    "3*x[0] + 2*x[1] + 4*x[2]"
   ]
  }
 ],
 "metadata": {
  "kernelspec": {
   "display_name": "Python 3 (ipykernel)",
   "language": "python",
   "name": "python3"
  },
  "language_info": {
   "codemirror_mode": {
    "name": "ipython",
    "version": 3
   },
   "file_extension": ".py",
   "mimetype": "text/x-python",
   "name": "python",
   "nbconvert_exporter": "python",
   "pygments_lexer": "ipython3",
   "version": "3.10.7"
  }
 },
 "nbformat": 4,
 "nbformat_minor": 5
}
