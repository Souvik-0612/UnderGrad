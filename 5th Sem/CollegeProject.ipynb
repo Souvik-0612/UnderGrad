{
 "cells": [
  {
   "cell_type": "markdown",
   "metadata": {},
   "source": [
    "# 1. Finite difference method\n",
    "This method is used to solve 2nd order differential equation(mainly boundary value problem) using discrete grid.\n",
    "## Numerical differentiation\n",
    "* First order derivative(Central difference):\n",
    "$$f'(x_0) = \\frac{f(x_0+h)-f(x_0-h)}{2h}$$\n",
    "* Second order derivative:\n",
    "$$f''(x_0) = \\frac{f(x_0-h)-2f(x_0)+f(x_0+h)}{h^2}$$\n",
    "\n",
    "# A general second order differential equation\n",
    "$$\\boxed{y''(x) + p(x)y'(x)+q(x)y(x) = r(x)}$$\n",
    "Boundary conditions are   $y(x_0) = y_0 \\hspace{2mm}y(x_{N-1})= y_{N-1}$. There is $N$ of grids. The above differential equation can be written as,\n",
    ".\n",
    "\n",
    ".\n",
    "\n",
    ".\n",
    "\n",
    ".\n",
    "\n",
    ".\n",
    "\n",
    ".\n",
    "\n",
    ".\n",
    "\n",
    "."
   ]
  },
  {
   "cell_type": "markdown",
   "metadata": {},
   "source": [
    "# Problem:\n",
    "Given Legendre's equation: $(1 - x^2)y'' - 2xy' + 12y = 0$.\n",
    "1. Solve the equation by *finite difference method* with the boundary conditions: $y(0.95) = -y(-0.95)=0.7184375$\n",
    "2. Analytical solution of this ODE is $y(x) = \\frac{1}{2}(5x^3 - 3x)$. Plot numerical solution slong with analytic solution.\n",
    "3. Let, $\\tilde{y}(x_i)$ be the numerical solution of the ODE on discrete $x_i$ points, and $y(x_i)$ be the analytic solution on those points. Define an error term $$e = \\left(\\frac{1}{N} \\sum_{i = 0}^{N-1} (y(x_i) - \\tilde{y}(x_i))^2\\right)^{1/2}$$ study the variation of $e$ with the numbers of points $N$ considered in finite difference method."
   ]
  },
  {
   "cell_type": "code",
   "execution_count": null,
   "metadata": {},
   "outputs": [
    {
     "ename": "",
     "evalue": "",
     "output_type": "error",
     "traceback": [
      "\u001b[1;31mRunning cells with 'c:\\Users\\MRIDUL KAYAL\\AppData\\Local\\Microsoft\\WindowsApps\\python3.11.exe' requires the ipykernel package.\n",
      "\u001b[1;31mRun the following command to install 'ipykernel' into the Python environment. \n",
      "\u001b[1;31mCommand: '\"c:/Users/MRIDUL KAYAL/AppData/Local/Microsoft/WindowsApps/python3.11.exe\" -m pip install ipykernel -U --user --force-reinstall'"
     ]
    }
   ],
   "source": [
    "import numpy as np\n",
    "import matplotlib.pyplot as plt\n",
    "import scienceplots\n",
    "plt.style.use(['science', \"notebook\", \"grid\"])"
   ]
  },
  {
   "cell_type": "code",
   "execution_count": null,
   "metadata": {},
   "outputs": [
    {
     "ename": "",
     "evalue": "",
     "output_type": "error",
     "traceback": [
      "\u001b[1;31mRunning cells with 'c:\\Users\\MRIDUL KAYAL\\AppData\\Local\\Microsoft\\WindowsApps\\python3.11.exe' requires the ipykernel package.\n",
      "\u001b[1;31mRun the following command to install 'ipykernel' into the Python environment. \n",
      "\u001b[1;31mCommand: '\"c:/Users/MRIDUL KAYAL/AppData/Local/Microsoft/WindowsApps/python3.11.exe\" -m pip install ipykernel -U --user --force-reinstall'"
     ]
    }
   ],
   "source": [
    "def Solution(N):\n",
    "    x, h = np.linspace(-0.95, 0.95, N, retstep=True)\n",
    "\n",
    "    # Null matrices\n",
    "    A = np.zeros((N, N))\n",
    "    b = np.zeros((N))\n",
    "\n",
    "    # Tridiagonal matrix\n",
    "    for i in range(1, N-1):\n",
    "        A[i][i-1] = (1 - x[i]**2)/h**2 + x[i]/h\n",
    "        A[i][i] = 12 - 2*(1 - x[i]**2)/h**2\n",
    "        A[i][i+1] = (1 - x[i]**2)/h**2 - x[i]/h\n",
    "\n",
    "    # Boundary values\n",
    "    A[0][0], A[-1][-1] = 1, 1\n",
    "    b[0], b[-1] = -0.7184375, 0.7184375\n",
    "\n",
    "    # Solve the linear equations\n",
    "    return np.linalg.solve(A, b)\n",
    "N = 10\n",
    "x, h = np.linspace(-0.95, 0.95, N, retstep=True)\n",
    "# Plotting\n",
    "plt.figure(figsize=(18, 8))\n",
    "plt.plot(x, Solution(N), \"og\", label = \"Numerically\")\n",
    "plt.plot(x, 0.5*(5*x**3 - 3*x), \"--*\",label = \"Analytically\")\n",
    "plt.xlabel(r\"$x$\", size = 16); plt.ylabel(r\"$y(x)$\", size = 16)\n",
    "plt.legend()\n",
    "plt.show()"
   ]
  },
  {
   "cell_type": "code",
   "execution_count": null,
   "metadata": {},
   "outputs": [
    {
     "ename": "",
     "evalue": "",
     "output_type": "error",
     "traceback": [
      "\u001b[1;31mRunning cells with 'c:\\Users\\MRIDUL KAYAL\\AppData\\Local\\Microsoft\\WindowsApps\\python3.11.exe' requires the ipykernel package.\n",
      "\u001b[1;31mRun the following command to install 'ipykernel' into the Python environment. \n",
      "\u001b[1;31mCommand: '\"c:/Users/MRIDUL KAYAL/AppData/Local/Microsoft/WindowsApps/python3.11.exe\" -m pip install ipykernel -U --user --force-reinstall'"
     ]
    }
   ],
   "source": [
    "N = np.linspace(4, 16, 13)\n",
    "E = []\n",
    "for i in N:\n",
    "    x = np.linspace(-0.95, 0.95, int(i))\n",
    "    y = 0.5*(5*x**3 - 3*x)\n",
    "    e = (sum((y - Solution(int(i)))**2)/int(i))**0.5\n",
    "    E.append(e)\n",
    "\n",
    "# Plotting\n",
    "plt.figure(figsize=(20, 8))\n",
    "plt.title(\"Variation of error with no of points\")\n",
    "plt.bar(N, E)\n",
    "plt.xticks(N)\n",
    "plt.xlabel(\"No of points\")\n",
    "plt.ylabel(\"Error\")\n",
    "plt.show()"
   ]
  },
  {
   "cell_type": "markdown",
   "metadata": {},
   "source": [
    "# 2. Shooting Method\n",
    "This method is used for solving 2nd order DE for given boundary condition. It is based on **uniqueness theorem**."
   ]
  },
  {
   "cell_type": "markdown",
   "metadata": {},
   "source": [
    "## Problem 1:\n",
    "Solve the Legendre's differential equation $(1-x^2)y'' -2xy'+l(l+1)y = 0$ using shooting method.\n",
    "1. For $l = 3$ boundary condition $y(0.95) = -y(-0.95) =0.71843$\n",
    "2. For $l = 4$ boundary condition $y(0.95) = y(-0.95) =0.55408$"
   ]
  },
  {
   "cell_type": "code",
   "execution_count": null,
   "metadata": {},
   "outputs": [
    {
     "ename": "",
     "evalue": "",
     "output_type": "error",
     "traceback": [
      "\u001b[1;31mRunning cells with 'c:\\Users\\MRIDUL KAYAL\\AppData\\Local\\Microsoft\\WindowsApps\\python3.11.exe' requires the ipykernel package.\n",
      "\u001b[1;31mRun the following command to install 'ipykernel' into the Python environment. \n",
      "\u001b[1;31mCommand: '\"c:/Users/MRIDUL KAYAL/AppData/Local/Microsoft/WindowsApps/python3.11.exe\" -m pip install ipykernel -U --user --force-reinstall'"
     ]
    }
   ],
   "source": [
    "def Ledengre(xi, xf, N, l, B):  #B for boundary value at x < 0\n",
    "    x, h = np.linspace(xi, xf, N, retstep=True)\n",
    "    y = np.zeros((N)); yp = np.zeros((N))\n",
    "    y[0] = B\n",
    "    m = -10\n",
    "    while m <= 5:\n",
    "        yp[0] = m\n",
    "        #Euler method\n",
    "        for i in range(N-1):\n",
    "            y[i+1] = y[i] + h*yp[i]\n",
    "            yp[i+1] = yp[i] + h*(2*x[i]*yp[i] - l*(l+1)*y[i])/(1 - x[i]**2)\n",
    "        # Tolerance\n",
    "        if abs(y[0]*(-1)**l - y[-1]) < 0.01:\n",
    "            break\n",
    "        m += 0.001\n",
    "    return x, y\n"
   ]
  },
  {
   "cell_type": "code",
   "execution_count": null,
   "metadata": {},
   "outputs": [
    {
     "ename": "",
     "evalue": "",
     "output_type": "error",
     "traceback": [
      "\u001b[1;31mRunning cells with 'c:\\Users\\MRIDUL KAYAL\\AppData\\Local\\Microsoft\\WindowsApps\\python3.11.exe' requires the ipykernel package.\n",
      "\u001b[1;31mRun the following command to install 'ipykernel' into the Python environment. \n",
      "\u001b[1;31mCommand: '\"c:/Users/MRIDUL KAYAL/AppData/Local/Microsoft/WindowsApps/python3.11.exe\" -m pip install ipykernel -U --user --force-reinstall'"
     ]
    }
   ],
   "source": [
    "xi, xf, N = -0.95, 0.95, 1000\n",
    "\n",
    "x1, y1 = Ledengre(xi, xf, N, 3, -0.71843)\n",
    "x2, y2 = Ledengre(xi, xf, 4000, 4, 0.55408)\n",
    "\n",
    "plt.figure(figsize=(18, 8))\n",
    "plt.plot(x1, y1, label = r\"$P_3(x)$\")\n",
    "plt.plot(x2, y2, label = r\"$P_4(x)$\")\n",
    "plt.legend(loc = \"best\")\n",
    "plt.xlabel(r\"$x$\"); plt.ylabel(r\"P(x)\")\n",
    "plt.show()"
   ]
  },
  {
   "cell_type": "markdown",
   "metadata": {},
   "source": [
    "## Problem 2:\n",
    "Solve the Hermite's differential equation $y'' - 2xy' + 2ny = 0$\n",
    "1. For n = 2 boundary conditions $y(0) = 2$ and $y(2) = 14$.\n",
    "2. For n = 3 boundary conditions $y(0) = 0$ and $y(2) = 40$"
   ]
  },
  {
   "cell_type": "code",
   "execution_count": null,
   "metadata": {},
   "outputs": [
    {
     "ename": "",
     "evalue": "",
     "output_type": "error",
     "traceback": [
      "\u001b[1;31mRunning cells with 'c:\\Users\\MRIDUL KAYAL\\AppData\\Local\\Microsoft\\WindowsApps\\python3.11.exe' requires the ipykernel package.\n",
      "\u001b[1;31mRun the following command to install 'ipykernel' into the Python environment. \n",
      "\u001b[1;31mCommand: '\"c:/Users/MRIDUL KAYAL/AppData/Local/Microsoft/WindowsApps/python3.11.exe\" -m pip install ipykernel -U --user --force-reinstall'"
     ]
    }
   ],
   "source": [
    "def Hermite(xi, xf, N, n, yi, yf):  #B for boundary value at x < 0\n",
    "    x, h = np.linspace(xi, xf, N, retstep=True)\n",
    "    y = np.zeros((N)); yp = np.zeros((N))\n",
    "    y[0] = yi\n",
    "    m = -20\n",
    "    while m <= 4:\n",
    "        yp[0] = -12\n",
    "        #Euler method\n",
    "        for i in range(N-1):\n",
    "            y[i+1] = y[i] + h*yp[i]\n",
    "            yp[i+1] = yp[i] + h*(2*x[i]*yp[i] - 2*n*y[i])\n",
    "        # Tolerance\n",
    "        if abs(abs(yf) - abs(y[-1])) < 0.01:\n",
    "            break\n",
    "        m += 0.001\n",
    "    return x, y\n"
   ]
  },
  {
   "cell_type": "code",
   "execution_count": null,
   "metadata": {},
   "outputs": [
    {
     "ename": "",
     "evalue": "",
     "output_type": "error",
     "traceback": [
      "\u001b[1;31mRunning cells with 'c:\\Users\\MRIDUL KAYAL\\AppData\\Local\\Microsoft\\WindowsApps\\python3.11.exe' requires the ipykernel package.\n",
      "\u001b[1;31mRun the following command to install 'ipykernel' into the Python environment. \n",
      "\u001b[1;31mCommand: '\"c:/Users/MRIDUL KAYAL/AppData/Local/Microsoft/WindowsApps/python3.11.exe\" -m pip install ipykernel -U --user --force-reinstall'"
     ]
    }
   ],
   "source": [
    "xi, xf, N = 0, 2, 1000\n",
    "\n",
    "x1, y1 = Hermite(xi, xf, N, 3, 0, 40)\n",
    "x2, y2 = Hermite(xi, xf, N, 2, 2, 14)\n",
    "\n",
    "plt.figure(figsize=(18, 8))\n",
    "plt.title(\"Hermite DE Solution\")\n",
    "plt.plot(x1, y1, label = r\"n = 3\")\n",
    "plt.plot(x2, y2, label = r\"n = 2\")\n",
    "plt.legend()\n",
    "plt.xlabel(r\"x\"); plt.ylabel(r\"H(x)\")\n",
    "plt.show()"
   ]
  },
  {
   "cell_type": "markdown",
   "metadata": {},
   "source": [
    "# Schrodinger equation(1D space)\n",
    "## Time dependent:\n",
    "Time evolution equation of wave function $\\Psi(x, t)$\n",
    "$$\\boxed{i\\hbar \\frac{\\partial \\Psi}{\\partial t} = \\frac{-\\hbar^2}{2m}\\frac{\\partial^2 \\Psi}{\\partial x^2}+V\\Psi}$$\n",
    "Using the method, *separation of variable*(using $\\Psi(x, t) = \\psi(x)\\phi(t)$) we get the time independent Schrodinger equation(namely Eigen value equation),\n",
    "$$\\hat H \\psi = E\\psi$$\n",
    "## Time independent Schrodinger equation:\n",
    "$$\\boxed{\\frac{-\\hbar^2}{2m}\\frac{d^2 \\psi_n}{d x^2}+V\\psi_n = E_n\\psi_n}$$\n",
    "* Note: The small $\\psi = \\psi(x)$ is called Eigen states.\n",
    "The **Wobble factor** is $\\phi(t) = e^{-iE_nt/\\hbar}$\n",
    "\n",
    "So $$\\boxed{\\Psi(x, t) = \\psi(x)e^{-iE_nt/\\hbar}}$$"
   ]
  },
  {
   "cell_type": "markdown",
   "metadata": {},
   "source": [
    "## 1. Particle in a box\n",
    "Potential form:\n",
    "$$V(x) = \\begin{cases} 0 & \\text{if $|x|<a$}\\\\\n",
    "\\infty & \\text{else} \\end{cases}$$\n",
    "Time independent Schrodinger equation for the case of $|x| < a\n",
    "$:\n",
    "$$\\frac{d^2\\psi}{dx^2} = -\\frac{2mE}{\\hbar^2}\\psi$$"
   ]
  },
  {
   "cell_type": "code",
   "execution_count": null,
   "metadata": {},
   "outputs": [
    {
     "ename": "",
     "evalue": "",
     "output_type": "error",
     "traceback": [
      "\u001b[1;31mRunning cells with 'c:\\Users\\MRIDUL KAYAL\\AppData\\Local\\Microsoft\\WindowsApps\\python3.11.exe' requires the ipykernel package.\n",
      "\u001b[1;31mRun the following command to install 'ipykernel' into the Python environment. \n",
      "\u001b[1;31mCommand: '\"c:/Users/MRIDUL KAYAL/AppData/Local/Microsoft/WindowsApps/python3.11.exe\" -m pip install ipykernel -U --user --force-reinstall'"
     ]
    }
   ],
   "source": [
    "h = 1; m = 1\n",
    "a = 1\n",
    "V = 0\n",
    "\n",
    "N = 2000\n",
    "x, dx = np.linspace(-a, a, N, retstep = True)\n",
    "psi = np.zeros(N); psi[0] = 0\n",
    "DpsiDt = np.zeros(N); DpsiDt[0] = 1 #It's kind of random\n",
    "\n",
    "# Next task: Find the all eigen energies.\n",
    "E = 0; En = []\n",
    "psi[-1] = 1 #Assigning this value grater than  0.001.\n",
    "print(\"Eigen energies are: \")\n",
    "while E <= 20: #Eigeplt.usen energies upto 150.\n",
    "    E += .001\n",
    "\n",
    "    for i in range(N-1):\n",
    "        psi[i+1] = psi[i] + dx*DpsiDt[i]\n",
    "        DpsiDt[i+1] = DpsiDt[i] + dx*(-2*m*E/h**2)*psi[i]\n",
    "\n",
    "    #Finding the eigen values\n",
    "    if abs(psi[-1]) <= 0.001:\n",
    "        En.append(E)\n",
    "        print(E)\n",
    "        E += 1 # this is another random, as we know two eigen\n",
    "               #energies  do not differ from 1.\n",
    "    "
   ]
  }
 ],
 "metadata": {
  "kernelspec": {
   "display_name": "Python 3",
   "language": "python",
   "name": "python3"
  },
  "language_info": {
   "codemirror_mode": {
    "name": "ipython",
    "version": 3
   },
   "file_extension": ".py",
   "mimetype": "text/x-python",
   "name": "python",
   "nbconvert_exporter": "python",
   "pygments_lexer": "ipython3",
   "version": "3.11.5"
  },
  "orig_nbformat": 4
 },
 "nbformat": 4,
 "nbformat_minor": 2
}
