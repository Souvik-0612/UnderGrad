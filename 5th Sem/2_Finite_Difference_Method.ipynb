{
 "cells": [
  {
   "cell_type": "markdown",
   "metadata": {},
   "source": [
    "# Finite difference method\n",
    "This method is used to solve 2nd order differential equation(mainly boundary value problem) using discrete grid.\n",
    "## Recap of numerical differentiation\n",
    "* First order derivative(Central difference):\n",
    "$$f'(x_0) = \\frac{f(x_0+h)-f(x_0-h)}{2h}$$\n",
    "* Second order derivative:\n",
    "$$f''(x_0) = \\frac{f(x_0-h)-2f(x_0)+f(x_0+h)}{h^2}$$\n",
    "\n",
    "# A general second order differential equation\n",
    "$$\\boxed{y''(x) + P(x)y'(x)+Q(x) = R(x)}$$\n",
    "Boundary conditions are   $y(x_0) = y_0 \\hspace{2mm}y(x_{N-1})= y_{N-1}$. There is $N$ of grids.\n"
   ]
  },
  {
   "cell_type": "markdown",
   "metadata": {},
   "source": [
    "# Perabolic motion \n",
    "Solve the equation $$\\boxed{\\frac{d^2y}{dx^2}=-g}$$ Using the boundary conditions $y(x=0)=0$ & $y(x=1)=0$. The actual solution is $y(x)=(x- x^2)g/2$"
   ]
  },
  {
   "cell_type": "code",
   "execution_count": 2,
   "metadata": {},
   "outputs": [],
   "source": [
    "import numpy as np\n",
    "import matplotlib.pyplot as plt"
   ]
  },
  {
   "cell_type": "code",
   "execution_count": 16,
   "metadata": {},
   "outputs": [
    {
     "data": {
      "text/plain": [
       "[<matplotlib.lines.Line2D at 0x7f8b44d7d590>]"
      ]
     },
     "execution_count": 16,
     "metadata": {},
     "output_type": "execute_result"
    },
    {
     "data": {
      "image/png": "[encoded data removed]",
      "text/plain": [
       "<Figure size 640x480 with 1 Axes>"
      ]
     },
     "metadata": {},
     "output_type": "display_data"
    }
   ],
   "source": [
    "xi =0 ; xf = 1; N = 20\n",
    "x,h = np.linspace(xi, xf, N, retstep = True)\n",
    "\n",
    "A = np.zeros((N, N))\n",
    "b = np.zeros((N, 1))\n",
    "\n",
    "for i in range(1, N-1):\n",
    "    #Tri-diagonal matrix\n",
    "    A[i][i-1] = 1\n",
    "    A[i][i] = -2\n",
    "    A[i][i+1]= 1\n",
    "\n",
    "A[0][0] = 1\n",
    "A[-1][-1] = 1\n",
    "\n",
    "#Parameter,\n",
    "g = 1; h = 1\n",
    "b[1:-1] = -g*h**2\n",
    "\n",
    "y = np.linalg.solve(A, b)\n",
    "plt.plot(x, y, \"o\")\n",
    "\n"
   ]
  },
  {
   "cell_type": "code",
   "execution_count": 14,
   "metadata": {},
   "outputs": [
    {
     "data": {
      "text/plain": [
       "array([[ 1.,  0.,  0.,  0.,  0.,  0.],\n",
       "       [ 1., -2.,  1.,  0.,  0.,  0.],\n",
       "       [ 0.,  1., -2.,  1.,  0.,  0.],\n",
       "       [ 0.,  0.,  1., -2.,  1.,  0.],\n",
       "       [ 0.,  0.,  0.,  1., -2.,  1.],\n",
       "       [ 0.,  0.,  0.,  0.,  0.,  1.]])"
      ]
     },
     "execution_count": 14,
     "metadata": {},
     "output_type": "execute_result"
    }
   ],
   "source": [
    "A"
   ]
  },
  {
   "cell_type": "code",
   "execution_count": null,
   "metadata": {},
   "outputs": [],
   "source": []
  }
 ],
 "metadata": {
  "kernelspec": {
   "display_name": "Python 3",
   "language": "python",
   "name": "python3"
  },
  "language_info": {
   "codemirror_mode": {
    "name": "ipython",
    "version": 3
   },
   "file_extension": ".py",
   "mimetype": "text/x-python",
   "name": "python",
   "nbconvert_exporter": "python",
   "pygments_lexer": "ipython3",
   "version": "3.11.3"
  },
  "orig_nbformat": 4
 },
 "nbformat": 4,
 "nbformat_minor": 2
}
