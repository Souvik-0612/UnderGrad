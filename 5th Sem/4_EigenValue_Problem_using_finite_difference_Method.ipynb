{
 "cells": [
  {
   "cell_type": "code",
   "execution_count": 1,
   "metadata": {},
   "outputs": [],
   "source": [
    "import numpy as np\n",
    "import matplotlib.pyplot as plt\n",
    "from scipy.linalg import eigh_tridiagonal\n",
    "import scienceplots\n",
    "plt.style.use(['science', 'notebook', 'grid'])"
   ]
  },
  {
   "cell_type": "markdown",
   "metadata": {},
   "source": [
    "# Quantum harmonic oscillator"
   ]
  },
  {
   "cell_type": "code",
   "execution_count": 2,
   "metadata": {},
   "outputs": [],
   "source": [
    "N = 5000\n",
    "x, dx = np.linspace(-10, 10, N, retstep = True)\n",
    "\n",
    "#Natural parameter\n",
    "h = 1; m = 1; w = 1\n",
    "\n",
    "L = h**2/(2*m*dx**2)\n",
    "\n",
    "V = 1/2*m*w**2*x**2\n",
    "\n",
    "Diagonal = 2*L*np.ones(N-1) + V[1:]\n",
    "OffDiagonal = -L*np.ones(N-2)\n",
    "\n",
    "E, psi = eigh_tridiagonal(Diagonal, OffDiagonal)\n",
    "\n",
    "plt.figure(figsize = (20, 25))\n",
    "plt.subplot(211)\n",
    "plt.title(\"Qauntum 1DHO\")\n",
    "plt.plot(x[1:], psi.T[30])\n",
    "plt.xlabel(r\"$x$\")\n",
    "plt.ylabel(r\"$\\psi_{30}(x)$\")\n",
    "\n",
    "plt.subplot(212)\n",
    "plt.bar(np.linspace(0, 4, 5), E[0:5])\n",
    "plt.title(\"Equi-spaced eigen energies\")\n",
    "plt.xlabel(r\"$n$\")\n",
    "plt.ylabel(r\"$E_n$\")\n",
    "\n",
    "plt.show()"
   ]
  },
  {
   "cell_type": "markdown",
   "metadata": {},
   "source": [
    "# Step Potential"
   ]
  },
  {
   "cell_type": "code",
   "execution_count": 3,
   "metadata": {},
   "outputs": [],
   "source": [
    "N = 5000\n",
    "x, dx = np.linspace(-3, 3, N, retstep = True)\n",
    "#Natural parameter\n",
    "h = 1; m = 1; Vo = 20; a = 20\n",
    "\n",
    "L = h**2/(2*m*dx**2)\n",
    "\n",
    "V = []\n",
    "for x_ in x:\n",
    "\tif x_ <= 0:\n",
    "\t\tV.append(0)\n",
    "\telse:\n",
    "\t\tV.append(Vo)\n",
    "V = np.array(V)\n",
    "Diagonal = 2*L*np.ones(N) + V\n",
    "OffDiagonal = -L*np.ones(N-1)\n",
    "\n",
    "E, psi = eigh_tridiagonal(Diagonal, OffDiagonal)\n",
    "\n",
    "plt.figure(figsize = (20, 25))\n",
    "plt.subplot(211)\n",
    "plt.title(\"Barier potential\")\n",
    "plt.plot(x, 0.001*V, label = \"Potential\")\n",
    "plt.plot(x, psi.T[0], label = r\"$\\psi_0(x)$\")\n",
    "plt.plot(x, psi.T[1], label = r\"$\\psi_1(x)$\")\n",
    "plt.plot(x, psi.T[2], label = r\"$\\psi_2(x)$\")\n",
    "plt.plot(x, psi.T[3], label = r\"$\\psi_3(x)$\")\n",
    "plt.plot(x, psi.T[4], label = r\"$\\psi_4(x)$\")\n",
    "plt.plot(x, psi.T[5], label = r\"$\\psi_5(x)$\")\n",
    "plt.legend()\n",
    "\n",
    "plt.subplot(212)\n",
    "plt.bar(np.linspace(0, 4, 5), E[0:5])\n",
    "plt.xlabel(r\"$n$\")\n",
    "plt.ylabel(r\"$E_n$\")\n",
    "\n",
    "plt.show()"
   ]
  },
  {
   "cell_type": "markdown",
   "metadata": {},
   "source": [
    "# Finite well"
   ]
  },
  {
   "cell_type": "code",
   "execution_count": 4,
   "metadata": {},
   "outputs": [],
   "source": [
    "N = 5000\n",
    "x, dx = np.linspace(-15, 15, N, retstep = True)\n",
    "#Natural parameter\n",
    "h = 1; m = 1; Vo = 10; a = 10\n",
    "\n",
    "L = h**2/(2*m*dx**2)\n",
    "\n",
    "V = []\n",
    "for x_ in x:\n",
    "\tif x_ <= 0:\n",
    "\t\tV.append(Vo)\n",
    "\telif 0< x_ < a:\n",
    "\t\tV.append(0)\n",
    "\telse:\n",
    "\t\tV.append(Vo)\n",
    "V = np.array(V)\n",
    "Diagonal = 2*L*np.ones(N) + V\n",
    "OffDiagonal = -L*np.ones(N-1)\n",
    "\n",
    "E, psi = eigh_tridiagonal(Diagonal, OffDiagonal)\n",
    "\n",
    "plt.figure(figsize = (20, 25))\n",
    "plt.subplot(211)\n",
    "plt.title(\"Finite potential well\")\n",
    "plt.plot(x, 0.01*V, label = \"Potential\")\n",
    "plt.plot(x, psi.T[0], label = r\"$\\psi_1(x)$\")\n",
    "plt.plot(x, psi.T[1], label = r\"$\\psi_2(x)$\")\n",
    "plt.legend()\n",
    "\n",
    "plt.subplot(212)\n",
    "plt.bar(np.linspace(0, 4, 5), E[0:5])\n",
    "plt.xlabel(r\"$n$\")\n",
    "plt.ylabel(r\"$E_n$\")\n",
    "\n",
    "plt.show()"
   ]
  },
  {
   "cell_type": "markdown",
   "metadata": {},
   "source": [
    "# Barier potential"
   ]
  },
  {
   "cell_type": "code",
   "execution_count": 5,
   "metadata": {},
   "outputs": [],
   "source": [
    "N = 5000\n",
    "x, dx = np.linspace(-25, 25, N, retstep = True)\n",
    "#Natural parameter\n",
    "h = 1; m = 1; Vo = 20; a = 20\n",
    "\n",
    "L = h**2/(2*m*dx**2)\n",
    "\n",
    "V = []\n",
    "for x_ in x:\n",
    "\tif x_ <= 0:\n",
    "\t\tV.append(0)\n",
    "\telif 0< x_ < a:\n",
    "\t\tV.append(Vo)\n",
    "\telse:\n",
    "\t\tV.append(0)\n",
    "V = np.array(V)\n",
    "Diagonal = 2*L*np.ones(N) + V\n",
    "OffDiagonal = -L*np.ones(N-1)\n",
    "\n",
    "E, psi = eigh_tridiagonal(Diagonal, OffDiagonal)\n",
    "\n",
    "plt.figure(figsize = (20, 25))\n",
    "plt.subplot(211)\n",
    "plt.title(\"Barier potential\")\n",
    "plt.plot(x, 0.001*V, label = \"Potential\")\n",
    "plt.plot(x, psi.T[0], label = r\"$\\psi_0(x)$\")\n",
    "plt.plot(x, psi.T[1], label = r\"$\\psi_1(x)$\")\n",
    "plt.plot(x, psi.T[2], label = r\"$\\psi_2(x)$\")\n",
    "plt.plot(x, psi.T[3], label = r\"$\\psi_3(x)$\")\n",
    "plt.plot(x, psi.T[4], label = r\"$\\psi_4(x)$\")\n",
    "plt.plot(x, psi.T[5], label = r\"$\\psi_5(x)$\")\n",
    "plt.legend()\n",
    "\n",
    "plt.subplot(212)\n",
    "plt.bar(np.linspace(0, 4, 5), E[0:5])\n",
    "plt.xlabel(r\"$n$\")\n",
    "plt.ylabel(r\"$E_n$\")\n",
    "\n",
    "plt.show()"
   ]
  }
 ],
 "metadata": {
  "kernelspec": {
   "display_name": "Python 3 (ipykernel)",
   "language": "python",
   "name": "python3"
  },
  "language_info": {
   "codemirror_mode": {
    "name": "ipython",
    "version": 3
   },
   "file_extension": ".py",
   "mimetype": "text/x-python",
   "name": "python",
   "nbconvert_exporter": "python",
   "pygments_lexer": "ipython3",
   "version": "3.11.3"
  }
 },
 "nbformat": 4,
 "nbformat_minor": 2
}
