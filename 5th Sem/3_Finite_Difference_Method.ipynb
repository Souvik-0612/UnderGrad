{
 "cells": [
  {
   "cell_type": "markdown",
   "metadata": {},
   "source": [
    "# Finite difference method\n",
    "This method is used to solve differential equation using discrete grid.\n",
    "## Recap of numerical differentiation\n",
    "1. First order derivative(Central difference):\n",
    "$$f'(x) = \\frac{f(x+h)-f(x-h)}{2h}$$\n",
    "2. Second order derivative:\n",
    "$$f''(x) = \\frac{f(x-h)-2f(x)+f(x+h)}{h^2}$$"
   ]
  },
  {
   "cell_type": "markdown",
   "metadata": {},
   "source": []
  }
 ],
 "metadata": {
  "language_info": {
   "name": "python"
  },
  "orig_nbformat": 4
 },
 "nbformat": 4,
 "nbformat_minor": 2
}
