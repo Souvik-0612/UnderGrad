{
 "cells": [
  {
   "attachments": {},
   "cell_type": "markdown",
   "metadata": {},
   "source": [
    "# Boundary value problem\n",
    "In second order ODE instead of giving two initial condition we provide two boundary condtions. This kind of problem is named as Boundary value problem.\n",
    "## Methods \n",
    "* Shooting method\n",
    "* Finite difference method"
   ]
  },
  {
   "attachments": {},
   "cell_type": "markdown",
   "metadata": {},
   "source": [
    "# Shooting method\n",
    "Consider two coupled ODE, \n",
    "$$\\frac{dy}{dx} = f_1(x, y, z) \\hspace{10mm} \\frac{dz}{dx} = f_2(x, y, z)$$\n",
    "with two boundary conditions: $y(x_0) = y_0, \\hspace{2mm} y(x_1) = y_1$. We want to solve for $y$ and $z$ in the domain $[x_0, x_1]$. We need two initial conditions out of which only one is given. So we have to guess the other i.e, $z(x_0)$. How to proceed?\n",
    "\n",
    "## Alogorithm:\n",
    "1. **First set of initial conditions**: $y(x_0) = y_0, z(x_0) = z_1$(first guess) and arrive at a solution: $y(x_1) = w_1$.\n",
    "2. **Second set of initial conditions**: $y(x_0) = y_0, z(x_0) = z_2$(first guess) and arrive at a solution: $y(x_1) = w_2$.\n",
    "3. **Find the next guess using the interpolation**: $$z_3 = z_2 + (z_2 - z_1)\\times\\frac{y_1 - w_2}{w_2 - w1}$$\n",
    "4. Repeat the steps 1 and 2 untill the difference between z's are small enough."
   ]
  },
  {
   "attachments": {},
   "cell_type": "markdown",
   "metadata": {},
   "source": [
    "### Problem:\n",
    "Solve the eq: $y'' = -y +\\frac{2y'^2}{y}$ in the domain $-1< x < 1$. Two boundary condition are given $y(-1) = y(1) = \\frac{1}{e + e^{-1}}\\approx 0.32403$. The exact solution is $y(x) = \\frac{1}{e^x + e^{-x}}$."
   ]
  },
  {
   "cell_type": "code",
   "execution_count": 1,
   "metadata": {},
   "outputs": [],
   "source": [
    "import numpy as np\n",
    "import matplotlib.pyplot as plt"
   ]
  },
  {
   "cell_type": "code",
   "execution_count": null,
   "metadata": {},
   "outputs": [],
   "source": [
    "x, dx = np.linspace(-1, 1, 100, retstep=True)\n",
    "y_0 = 1/(np.e + 1/np.e)\n"
   ]
  }
 ],
 "metadata": {
  "kernelspec": {
   "display_name": "Python 3",
   "language": "python",
   "name": "python3"
  },
  "language_info": {
   "codemirror_mode": {
    "name": "ipython",
    "version": 3
   },
   "file_extension": ".py",
   "mimetype": "text/x-python",
   "name": "python",
   "nbconvert_exporter": "python",
   "pygments_lexer": "ipython3",
   "version": "3.11.3"
  },
  "orig_nbformat": 4
 },
 "nbformat": 4,
 "nbformat_minor": 2
}
