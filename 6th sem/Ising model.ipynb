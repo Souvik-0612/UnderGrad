{
 "cells": [
  {
   "cell_type": "code",
   "execution_count": 12,
   "metadata": {},
   "outputs": [],
   "source": [
    "import numpy as np"
   ]
  },
  {
   "cell_type": "markdown",
   "metadata": {},
   "source": [
    "# Ising model in 1 Dimension\n",
    "Ising introduced a model where a lattice of spin variable $s_i$ can take value +1 or -1. Every spin can interact with its *nearest* neighbours as well as with an external magnetic field. \n",
    "\n",
    "The Hamiltonian of the Ising model is \n",
    "$$H(\\{s_i\\}) = -J \\sum_{<i, j>}s_is_j - h \\sum_i s_i$$\n",
    "Where the $\\{s_i\\}$ is the spin distribution. The sum $<i, j>$ is over nearest neighbours. $J$ is a constant specifying the strength of interaction\n",
    "\n"
   ]
  },
  {
   "cell_type": "code",
   "execution_count": 13,
   "metadata": {},
   "outputs": [
    {
     "data": {
      "text/plain": [
       "array([[ 1.,  1.,  1.,  1.],\n",
       "       [-1.,  1.,  1.,  1.],\n",
       "       [ 1., -1.,  1.,  1.],\n",
       "       [-1., -1.,  1.,  1.],\n",
       "       [ 1.,  1., -1.,  1.],\n",
       "       [-1.,  1., -1.,  1.],\n",
       "       [ 1., -1., -1.,  1.],\n",
       "       [-1., -1., -1.,  1.],\n",
       "       [ 1.,  1.,  1., -1.],\n",
       "       [-1.,  1.,  1., -1.],\n",
       "       [ 1., -1.,  1., -1.],\n",
       "       [-1., -1.,  1., -1.],\n",
       "       [ 1.,  1., -1., -1.],\n",
       "       [-1.,  1., -1., -1.],\n",
       "       [ 1., -1., -1., -1.],\n",
       "       [-1., -1., -1., -1.]])"
      ]
     },
     "execution_count": 13,
     "metadata": {},
     "output_type": "execute_result"
    }
   ],
   "source": [
    "# One dimensional lattice\n",
    "# Number of lattice sites\n",
    "N = 4\n",
    "# Spin configuration\n",
    "S = np.ones((2**N, N))    \n",
    "# Loop over all possible configurations\n",
    "for i in range(2**N):\n",
    "    for j in range(N):\n",
    "        if i & (1 << j): #Bitwise operation\n",
    "            S[i, j] = -1\n",
    "S"
   ]
  },
  {
   "cell_type": "markdown",
   "metadata": {},
   "source": [
    "## Non-interacting model ($J = 0$)\n",
    "Let us first consider the simpler case of $J = 0$ ($ h \\ne 0$). This is a non-interacting model.\n",
    "$$Z = \\sum_{\\{s_i\\}}e^{\\beta h \\sum_i s_i}$$\n"
   ]
  },
  {
   "cell_type": "code",
   "execution_count": null,
   "metadata": {},
   "outputs": [],
   "source": [
    "# Partition function for non-interacting spins\n",
    "beta = 1\n",
    "Z = 0\n",
    "for i in range(2**N):\n",
    "    Z += np.exp(-beta * np.dot(S[i], S[i]))\n",
    "    +"
   ]
  },
  {
   "cell_type": "markdown",
   "metadata": {},
   "source": [
    "## Ising model at zero field($h = 0$)\n",
    "So the Hamiltonian becomes \n",
    "$$H(\\{s_i\\}) = -J \\sum_{<i, j>}s_is_j$$"
   ]
  },
  {
   "cell_type": "code",
   "execution_count": 14,
   "metadata": {},
   "outputs": [],
   "source": [
    "# Hamiltonian for the all conbiiations\n",
    "J = 1\n",
    "H = np.zeros((2**N, 1))\n",
    "for i in range(2**N):\n",
    "    for j in range(N-1):\n",
    "        H[i] += -J*S[i, j]*S[i, j+1]\n",
    "    H[i] += -J*S[i, N-1]*S[i, 0]\n"
   ]
  },
  {
   "cell_type": "markdown",
   "metadata": {},
   "source": []
  },
  {
   "cell_type": "code",
   "execution_count": 15,
   "metadata": {},
   "outputs": [
    {
     "data": {
      "text/plain": [
       "121.23293134406595"
      ]
     },
     "execution_count": 15,
     "metadata": {},
     "output_type": "execute_result"
    }
   ],
   "source": [
    "# Partition function\n",
    "Z = np.sum(np.exp(-H))\n",
    "Z"
   ]
  },
  {
   "cell_type": "code",
   "execution_count": 16,
   "metadata": {},
   "outputs": [],
   "source": [
    "# Propability of each configuration\n",
    "P = np.exp(-H)/Z\n"
   ]
  },
  {
   "cell_type": "code",
   "execution_count": 17,
   "metadata": {},
   "outputs": [
    {
     "data": {
      "text/plain": [
       "14.416271900123464"
      ]
     },
     "execution_count": 17,
     "metadata": {},
     "output_type": "execute_result"
    }
   ],
   "source": [
    "# Average energy\n",
    "E1 = np.sum(H*P)\n",
    "E1\n",
    "# Average of energies squared\n",
    "E2 = np.sum(H**2*P)\n",
    "E2"
   ]
  },
  {
   "cell_type": "code",
   "execution_count": 18,
   "metadata": {},
   "outputs": [
    {
     "data": {
      "text/plain": [
       "array([[ 1. ],\n",
       "       [ 0.5],\n",
       "       [ 0.5],\n",
       "       [ 0. ],\n",
       "       [ 0.5],\n",
       "       [ 0. ],\n",
       "       [ 0. ],\n",
       "       [-0.5],\n",
       "       [ 0.5],\n",
       "       [ 0. ],\n",
       "       [ 0. ],\n",
       "       [-0.5],\n",
       "       [ 0. ],\n",
       "       [-0.5],\n",
       "       [-0.5],\n",
       "       [-1. ]])"
      ]
     },
     "execution_count": 18,
     "metadata": {},
     "output_type": "execute_result"
    }
   ],
   "source": [
    "# Average magnetization\n",
    "M = np.zeros((2**N, 1))\n",
    "for i in range(2**N):\n",
    "    M[i] = np.sum(S[i, :])/N\n",
    "M"
   ]
  },
  {
   "cell_type": "code",
   "execution_count": 19,
   "metadata": {},
   "outputs": [
    {
     "data": {
      "text/plain": [
       "array([[4.],\n",
       "       [0.],\n",
       "       [0.],\n",
       "       [0.],\n",
       "       [0.],\n",
       "       [4.],\n",
       "       [0.],\n",
       "       [0.],\n",
       "       [0.],\n",
       "       [0.],\n",
       "       [4.],\n",
       "       [0.],\n",
       "       [0.],\n",
       "       [0.],\n",
       "       [0.],\n",
       "       [4.]])"
      ]
     },
     "execution_count": 19,
     "metadata": {},
     "output_type": "execute_result"
    }
   ],
   "source": [
    "# specific heat\n",
    "C = np.zeros((2**N, 1))\n",
    "for i in range(2**N):\n",
    "    C[i] = np.sum((H[i] - np.mean(H))**2)/N\n",
    "C"
   ]
  }
 ],
 "metadata": {
  "kernelspec": {
   "display_name": "Python 3",
   "language": "python",
   "name": "python3"
  },
  "language_info": {
   "codemirror_mode": {
    "name": "ipython",
    "version": 3
   },
   "file_extension": ".py",
   "mimetype": "text/x-python",
   "name": "python",
   "nbconvert_exporter": "python",
   "pygments_lexer": "ipython3",
   "version": "3.12.2"
  }
 },
 "nbformat": 4,
 "nbformat_minor": 2
}
